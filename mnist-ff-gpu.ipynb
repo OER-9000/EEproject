{
 "cells": [
  {
   "cell_type": "markdown",
   "metadata": {},
   "source": [
    "# PyTorchでGPUを利用する\n",
    "Feed-forwardネットワークのコードを例に、GPUでの動かし方を説明する。"
   ]
  },
  {
   "cell_type": "code",
   "execution_count": null,
   "metadata": {},
   "outputs": [],
   "source": [
    "import torch\n",
    "import numpy as np"
   ]
  },
  {
   "cell_type": "code",
   "execution_count": null,
   "metadata": {},
   "outputs": [],
   "source": [
    "crossEntropyLoss = torch.nn.NLLLoss() # 損失関数"
   ]
  },
  {
   "cell_type": "code",
   "execution_count": null,
   "metadata": {},
   "outputs": [],
   "source": [
    "def accuracy(model,X,C):\n",
    "    Y = model(X)\n",
    "    result = np.array([np.argmax(y) for y in Y.detach().cpu().numpy()])\n",
    "    answer = C.detach().cpu().numpy()\n",
    "    return np.sum(np.equal(result, answer)) / C.shape[0]"
   ]
  },
  {
   "cell_type": "code",
   "execution_count": null,
   "metadata": {},
   "outputs": [],
   "source": [
    "from sklearn.model_selection import train_test_split\n",
    "X_train, X_test, C_train, C_test = train_test_split(X, C, test_size=0.1, random_state=0)"
   ]
  },
  {
   "cell_type": "code",
   "execution_count": null,
   "metadata": {},
   "outputs": [],
   "source": [
    "from torch.utils.data import Dataset, DataLoader\n",
    "\n",
    "class MNISTTrainDataSet(Dataset):\n",
    "    def __len__(self):\n",
    "        return X_train.shape[0]\n",
    "    \n",
    "    def __getitem__(self, idx):\n",
    "        return X_train[idx].astype('float'), C_train[idx]"
   ]
  },
  {
   "cell_type": "code",
   "execution_count": null,
   "metadata": {},
   "outputs": [],
   "source": [
    "mnist = MNISTTrainDataSet()\n",
    "train_loader = DataLoader(dataset=mnist,batch_size=50,shuffle=True)"
   ]
  },
  {
   "cell_type": "markdown",
   "metadata": {},
   "source": [
    "GPUが複数塔載されている場合、最初のGPUは cuda:0, 次は cuda:1... のように識別されている。GPUを有効にする場合、これを指定する。これまで通りCPUで計算する場合には cpu と指定する。to(device) を実行すると、モデルパラメータまたはデータがGPUに転送される。"
   ]
  },
  {
   "cell_type": "code",
   "execution_count": null,
   "metadata": {},
   "outputs": [],
   "source": [
    "if torch.cuda.is_available():\n",
    "    dev = \"cuda:0\"\n",
    "else:\n",
    "    dev = \"cpu\"\n",
    "\n",
    "device = torch.device(dev)\n",
    "model = model.to(device)"
   ]
  },
  {
   "cell_type": "markdown",
   "metadata": {},
   "source": [
    "trainの中でも、DataLoader から渡されたデータをまずGPUに送る。"
   ]
  },
  {
   "cell_type": "code",
   "execution_count": null,
   "metadata": {},
   "outputs": [],
   "source": [
    "def train(model, learning_rate=0.5, num_epochs=100):\n",
    "    for epoch in range(num_epochs):\n",
    "        for X, C in train_loader:\n",
    "            X = X.to(device)\n",
    "            C = C.to(device)\n",
    "            X = X.float() # DataLoaderはデータをdouble型で渡すので、後の処理のためにfloat型に変換\n",
    "            Y = model(X) # forward計算\n",
    "            loss = crossEntropyLoss(Y, C) # 損失の計算\n",
    "            W1, b1, W2, b2 = model.parameters()\n",
    "            if W1.grad is not None:\n",
    "                W1.grad.data.zero_()\n",
    "                b1.grad.data.zero_()\n",
    "            if W2.grad is not None:\n",
    "                W2.grad.data.zero_()\n",
    "                b2.grad.data.zero_()\n",
    "            loss.backward() # backward計算\n",
    "            # 勾配法\n",
    "            W1.data -= learning_rate * W1.grad.data\n",
    "            b1.data -= learning_rate * b1.grad.data\n",
    "            W2.data -= learning_rate * W2.grad.data\n",
    "            b2.data -= learning_rate * b2.grad.data\n",
    "\n",
    "        Y = model(X_train_t)\n",
    "        print('Epoch [%d/%d], Loss: %.4f' % (epoch+1, num_epochs, crossEntropyLoss(Y, C_train_t)))"
   ]
  },
  {
   "cell_type": "code",
   "execution_count": null,
   "metadata": {},
   "outputs": [],
   "source": [
    "hidden_units = 500\n",
    "model = torch.nn.Sequential()\n",
    "model.add_module(\"linear1\", torch.nn.Linear(in_features=D,out_features=hidden_units))\n",
    "model.add_module(\"sigmoid\", torch.nn.Sigmoid())\n",
    "model.add_module(\"linear2\", torch.nn.Linear(in_features=hidden_units,out_features=M))\n",
    "model.add_module(\"softmax2\", torch.nn.LogSoftmax(dim=1))"
   ]
  },
  {
   "cell_type": "markdown",
   "metadata": {},
   "source": [
    "GPUの性能がわかりやすいように、バッチサイズを1000にする"
   ]
  },
  {
   "cell_type": "code",
   "execution_count": null,
   "metadata": {},
   "outputs": [],
   "source": [
    "train_loader = DataLoader(dataset=mnist,batch_size=1000,shuffle=True)"
   ]
  },
  {
   "cell_type": "markdown",
   "metadata": {},
   "source": [
    "学習用のバッチは DataLoader が用意してくれるのでこれだけでOKだが、損失の計算やテストセットでの精度の計算には訓練データもしくはテストデータの全部が必要なので、これを準備する。まず以前と同様、PyTorch の Tensor型に変換しておく。"
   ]
  },
  {
   "cell_type": "code",
   "execution_count": null,
   "metadata": {},
   "outputs": [],
   "source": [
    "X_train_t=torch.from_numpy(X_train).float()\n",
    "C_train_t=torch.from_numpy(C_train)\n",
    "X_test_t=torch.from_numpy(X_test).float()\n",
    "C_test_t=torch.from_numpy(C_test)"
   ]
  },
  {
   "cell_type": "markdown",
   "metadata": {},
   "source": [
    "これを(あれば)GPUに送る。"
   ]
  },
  {
   "cell_type": "code",
   "execution_count": null,
   "metadata": {},
   "outputs": [],
   "source": [
    "X_train_t = X_train_t.to(device)\n",
    "C_train_t = C_train_t.to(device)"
   ]
  },
  {
   "cell_type": "markdown",
   "metadata": {},
   "source": [
    "そして学習"
   ]
  },
  {
   "cell_type": "code",
   "execution_count": null,
   "metadata": {},
   "outputs": [],
   "source": [
    "train(model,learning_rate=0.5)"
   ]
  },
  {
   "cell_type": "code",
   "execution_count": null,
   "metadata": {},
   "outputs": [],
   "source": [
    "X_test_t = X_test_t.to(device)\n",
    "C_test_t = C_test_t.to(device)\n",
    "accuracy(model,X_test_t,C_test_t)"
   ]
  },
  {
   "cell_type": "code",
   "execution_count": null,
   "metadata": {},
   "outputs": [],
   "source": []
  }
 ],
 "metadata": {
  "kernelspec": {
   "display_name": "Python 3",
   "language": "python",
   "name": "python3"
  },
  "language_info": {
   "codemirror_mode": {
    "name": "ipython",
    "version": 3
   },
   "file_extension": ".py",
   "mimetype": "text/x-python",
   "name": "python",
   "nbconvert_exporter": "python",
   "pygments_lexer": "ipython3",
   "version": "3.6.8"
  }
 },
 "nbformat": 4,
 "nbformat_minor": 2
}
