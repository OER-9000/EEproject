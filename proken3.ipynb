{
 "cells": [
  {
   "cell_type": "markdown",
   "metadata": {},
   "source": [
    "# カテゴリカル分布\n",
    "goodかbadの二択問題で、goodの確率が $\\mu$ であるとき、goodである確率とbadである確率をまとめて書くと\n",
    "$$P(t)=\\mu^t(1-\\mu)^{1-t}$$\n",
    "と書けた。\n",
    "\n",
    "次に、三択以上の確率分布を考えよう。サイコロの目のように、出目が6通りあるとする。このときの出目を、以下のようなone-hot表現で表すことにする。\n",
    "$$\\boldsymbol{x}=(0,0,1,0,0,0)^\\top$$\n",
    "\n",
    "このとき、one-hot表現の出目ベクトル $\\boldsymbol{x}$ の確率は\n",
    "\\begin{equation}\n",
    "P(\\boldsymbol{x}|\\boldsymbol{\\mu})=\\prod_{m=1}^6 \\mu_m^{x_m}\n",
    "\\end{equation}\n",
    "となる。 $\\boldsymbol{\\mu}=(\\mu_1,\\mu_2,\\cdots)$ はパラメータベクトルである。\n",
    "\n",
    "$K$ 回サイコロを振ったデータをまとめて ${\\cal D}$ と書くことにすると、このモデルから ${\\cal D}$ が発生する同時確率は\n",
    "\\begin{equation}\n",
    "P({\\cal D}|\\boldsymbol{\\mu})=\\prod_{k=1}^K\\prod_{m=1}^6 \\mu_m^{x_{km}}\n",
    "\\end{equation}\n",
    "\n",
    "$m$ の目が $c_m$ 回出たとすると、 $c_m=\\sum_{k=1}^K x_{km}$ だから\n",
    "\n",
    "\\begin{equation}\n",
    "P({\\cal D}|\\boldsymbol{\\mu})=\\prod_{m=1}^6 \\mu_m^{c_m}\n",
    "\\end{equation}\n",
    "\n",
    "この同時確率を $\\boldsymbol{\\mu}$ の関数とみなし、これを尤度関数という。よって対数尤度関数は\n",
    "\\begin{equation}\n",
    "\\log P({\\cal D}|\\boldsymbol{\\mu})=\\sum_{m=1}^6 c_m\\log\\mu_m\n",
    "\\end{equation}\n",
    "\n",
    "この関数を最大にするような $\\boldsymbol{\\mu}$ を求めればよい。"
   ]
  },
  {
   "cell_type": "code",
   "execution_count": 2,
   "metadata": {},
   "outputs": [
    {
     "data": {
      "text/plain": [
       "array([1000, 5056,  994,  966,  963, 1021])"
      ]
     },
     "execution_count": 2,
     "metadata": {},
     "output_type": "execute_result"
    }
   ],
   "source": [
    "import numpy as np\n",
    "\n",
    "mu = [0.1, 0.5, 0.1, 0.1, 0.1, 0.1]\n",
    "D = np.random.multinomial(10000, mu)\n",
    "D"
   ]
  },
  {
   "cell_type": "code",
   "execution_count": null,
   "metadata": {},
   "outputs": [],
   "source": []
  }
 ],
 "metadata": {
  "kernelspec": {
   "display_name": "Python 3",
   "language": "python",
   "name": "python3"
  },
  "language_info": {
   "codemirror_mode": {
    "name": "ipython",
    "version": 3
   },
   "file_extension": ".py",
   "mimetype": "text/x-python",
   "name": "python",
   "nbconvert_exporter": "python",
   "pygments_lexer": "ipython3",
   "version": "3.6.5"
  }
 },
 "nbformat": 4,
 "nbformat_minor": 2
}
