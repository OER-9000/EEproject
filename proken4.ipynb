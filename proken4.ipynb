{
 "cells": [
  {
   "cell_type": "markdown",
   "metadata": {},
   "source": [
    "# PyTorchを使う\n",
    "PyTorchは深層学習フレームワークの1つ。1からプログラムをするのに比べ簡単で、かつGPUを利用した計算ができる。ほかにもTensorFlow, Chainerなど多くのフレームワークがある。本格的なディープラーニングでは、事実上、このいずれかを利用することになる。\n",
    "\n",
    "使うときには以下のようにする。"
   ]
  },
  {
   "cell_type": "code",
   "execution_count": 1,
   "metadata": {},
   "outputs": [],
   "source": [
    "import torch"
   ]
  },
  {
   "cell_type": "markdown",
   "metadata": {},
   "source": [
    "## PyTorchのデータ、モデルを置くデバイス\n",
    "GPUで計算する場合には、データとモデルをGPUに置く必要がある。その場合には、次の device 変数を cuda にしておく。GPU を使わない場合には cpu にする。"
   ]
  },
  {
   "cell_type": "code",
   "execution_count": null,
   "metadata": {},
   "outputs": [],
   "source": [
    "device = torch.device(\"cpu\")"
   ]
  },
  {
   "cell_type": "markdown",
   "metadata": {},
   "source": [
    "## 多クラスロジスティック回帰"
   ]
  },
  {
   "cell_type": "markdown",
   "metadata": {},
   "source": [
    "PyTorchでは、変数は Tensor という型に入れる。numpyのデータからはfrom_numpy関数で変換できる。"
   ]
  },
  {
   "cell_type": "code",
   "execution_count": 2,
   "metadata": {},
   "outputs": [],
   "source": [
    "import numpy as np\n",
    "from sklearn import datasets\n",
    "\n",
    "iris = datasets.load_iris()\n",
    "M = iris.target_names.size # クラス(アヤメの種類)の数\n",
    "D = iris.data.shape[1] # 特徴量の数\n",
    "X = torch.from_numpy(iris.data).float().to(device)\n",
    "C = torch.from_numpy(iris.target).to(device)"
   ]
  },
  {
   "cell_type": "code",
   "execution_count": 3,
   "metadata": {},
   "outputs": [],
   "source": [
    "X_train = X[0::2] # 偶数番目\n",
    "X_test = X[1::2] # 奇数番目\n",
    "C_train = C[0::2]\n",
    "C_test = C[1::2]"
   ]
  },
  {
   "cell_type": "markdown",
   "metadata": {},
   "source": [
    "多クラスロジスティック回帰は、\n",
    "<span id=\"multiclasslogistic\">\n",
    "\\begin{aligned}\n",
    "    \\boldsymbol{z} &= \\boldsymbol{x}^\\top\\boldsymbol{W}+\\boldsymbol{b} \\\\\n",
    "    \\boldsymbol{y} &=\\text{softmax}(\\boldsymbol{z})\n",
    "\\end{aligned}\n",
    "</span>\n",
    "だった(ただし、この式の $\\boldsymbol{x}$ は1で拡張されて**いない**)。まず $\\boldsymbol{x}$ を $\\boldsymbol{W}$ と $\\boldsymbol{b}$ で線形変換して $\\boldsymbol{z}$ を得る。次に $\\boldsymbol{z}$ を softmax 関数に通して $\\boldsymbol{y}$ を得るという手順であった。\n",
    "\n",
    "PyTorchでは、このようなベクトル(テンソル)の変換の繰り返しでモデルを定義する。線形変換を計算する Linear, 対数 softmax を計算する LogSoftmax というモジュールをモデルに順番に追加する。このモデルのパラメータは、$D\\times M$ 次元の行列 $\\boldsymbol{W}$ と、$M$ 次元のベクトル $\\boldsymbol{b}$ である。"
   ]
  },
  {
   "cell_type": "code",
   "execution_count": 4,
   "metadata": {},
   "outputs": [],
   "source": [
    "model = torch.nn.Sequential(\n",
    "    torch.nn.Linear(in_features=D, out_features=M),\n",
    "    torch.nn.LogSoftmax(dim=1)\n",
    ").to(device)"
   ]
  },
  {
   "cell_type": "markdown",
   "metadata": {},
   "source": [
    "損失関数は、自分で定義しなくとも最初からいろいろ用意されている。ロジスティック回帰の損失関数は負の対数尤度 (Negative Log Likelihood) なので NLLLoss という関数が使える。"
   ]
  },
  {
   "cell_type": "code",
   "execution_count": 5,
   "metadata": {},
   "outputs": [],
   "source": [
    "crossEntropyLoss = torch.nn.NLLLoss() # 損失関数"
   ]
  },
  {
   "cell_type": "markdown",
   "metadata": {},
   "source": [
    "PyTorchを使ったモデル学習の基本は次の通りである。\n",
    "\n",
    "まず、forward (前向き) 計算を行う。入力から出力への向きのことを前向きと呼ぶ。ここでは $\\boldsymbol{x}$ から $\\boldsymbol{z}$ 、$\\boldsymbol{z}$ から $\\boldsymbol{y}$ の計算である。上で定義した model 関数を使うと、出力の計算(=forward計算)が行える。\n",
    "\n",
    "出力がわかると、教師データとの関係から損失が計算できる。次に損失を計算する。上で定義した crossEntropyLoss 関数に、出力と教師データを与えると計算してくれる。\n",
    "\n",
    "次に、最小化したい値(ここでは loss)に対してbackward (後向き) 計算を行う。ここで計算されているのは誤差と呼ばれる値である。多クラスロジスティック回帰の場合には、クラス $m$ の教師信号との誤差は $y_m-t_m$ である。第2回の課題(2)でやったように、 $E$ の勾配は\n",
    "$\\sum_k (y_{km}-t_{km})\\boldsymbol{x}$ となる。つまり、誤差と入力の積によって勾配が計算できる。PyTorch の backward 関数は、各層の誤差を計算するのと同時に、その層への入力との積から勾配 grad を計算し、パラメータの中に保存する。なお計算した勾配は蓄積される仕様なので、backward計算の前にゼロクリアしている。\n",
    "\n",
    "後は今までと同じように、勾配に学習係数をかけた値をパラメータから引けば1回の更新が終了する。"
   ]
  },
  {
   "cell_type": "code",
   "execution_count": 6,
   "metadata": {},
   "outputs": [],
   "source": [
    "learning_rate = 0.1\n",
    "step_num = 10000\n",
    "\n",
    "for i in range(step_num):\n",
    "    Y = model(X_train) # forward計算\n",
    "    loss = crossEntropyLoss(Y, C_train) # 損失の計算\n",
    "    W, b = model.parameters()\n",
    "    if W.grad is not None:\n",
    "        W.grad.data.zero_()\n",
    "        b.grad.data.zero_()\n",
    "\n",
    "    loss.backward() # backward計算\n",
    "    # 勾配法\n",
    "    W.data -= learning_rate * W.grad.data\n",
    "    b.data -= learning_rate * b.grad.data"
   ]
  },
  {
   "cell_type": "markdown",
   "metadata": {},
   "source": [
    "学習の済んだモデルにテストデータの入力を入れると各クラスの対数確率が得られる。対数確率が最大のクラスが認識結果となる。"
   ]
  },
  {
   "cell_type": "code",
   "execution_count": 7,
   "metadata": {},
   "outputs": [],
   "source": [
    "def accuracy(model,X,C):\n",
    "    Y = model(X)\n",
    "    Y = Y.detach().cpu().numpy() # PyTorchテンソルからnumpy ndarrayに変換\n",
    "    result = np.argmax(Y, axis=1)\n",
    "    answer = C.detach().cpu().numpy()\n",
    "    return np.mean(np.equal(result, answer))"
   ]
  },
  {
   "cell_type": "code",
   "execution_count": 8,
   "metadata": {},
   "outputs": [
    {
     "data": {
      "text/plain": [
       "0.9466666666666667"
      ]
     },
     "execution_count": 8,
     "metadata": {},
     "output_type": "execute_result"
    }
   ],
   "source": [
    "accuracy(model, X_test, C_test)"
   ]
  },
  {
   "cell_type": "markdown",
   "metadata": {},
   "source": [
    "# 手書き数字の認識"
   ]
  },
  {
   "cell_type": "markdown",
   "metadata": {},
   "source": [
    "アヤメの分類よりももう少しだけ本格的な問題を解いてみる。[MNIST](https://en.wikipedia.org/wiki/MNIST_database)は0から9までの手書き数字画像のデータベースである。これを使って、多クラスロジスティック回帰モデルで手書き数字の認識をやってみよう。"
   ]
  },
  {
   "cell_type": "code",
   "execution_count": 9,
   "metadata": {},
   "outputs": [],
   "source": [
    "from sklearn.datasets import fetch_openml\n",
    "\n",
    "mnist_X, mnist_C = fetch_openml('mnist_784', data_home=\".\", return_X_y=True)"
   ]
  },
  {
   "cell_type": "markdown",
   "metadata": {},
   "source": [
    "X には0から255までの画素値、 C にはどの数字かを表す数値が入っている。まずXを最大値1に正規化する。"
   ]
  },
  {
   "cell_type": "code",
   "execution_count": 10,
   "metadata": {},
   "outputs": [
    {
     "data": {
      "text/plain": [
       "(70000, 784)"
      ]
     },
     "execution_count": 10,
     "metadata": {},
     "output_type": "execute_result"
    }
   ],
   "source": [
    "X = mnist_X.to_numpy(np.float32) / 255.0\n",
    "C = mnist_C.to_numpy(np.int64)\n",
    "X.shape"
   ]
  },
  {
   "cell_type": "markdown",
   "metadata": {},
   "source": [
    "データ数は全部で70000個、特徴量の数は画素数($28\\times28=784$)である。\n",
    "\n",
    "以下のコードで、データの1つを描画できる。Xの添字を適当に変えて、MNISTがどのようなデータなのか眺めておこう。"
   ]
  },
  {
   "cell_type": "code",
   "execution_count": 11,
   "metadata": {},
   "outputs": [
    {
     "data": {
      "text/plain": [
       "<matplotlib.image.AxesImage at 0x7fc7cd1517c0>"
      ]
     },
     "execution_count": 11,
     "metadata": {},
     "output_type": "execute_result"
    },
    {
     "data": {
      "image/png": "[encoded data removed]",
      "text/plain": [
       "<Figure size 432x288 with 1 Axes>"
      ]
     },
     "metadata": {
      "needs_background": "light"
     },
     "output_type": "display_data"
    }
   ],
   "source": [
    "%matplotlib inline\n",
    "import matplotlib.pyplot as plt\n",
    "\n",
    "plt.imshow(X[23450].reshape(28,28), cmap='gray')"
   ]
  },
  {
   "cell_type": "code",
   "execution_count": 12,
   "metadata": {},
   "outputs": [],
   "source": [
    "M = 10 # 数字の数\n",
    "D = 28 * 28 # 特徴量の数"
   ]
  },
  {
   "cell_type": "markdown",
   "metadata": {},
   "source": [
    "90%のデータで訓練、残り10%でテストする。"
   ]
  },
  {
   "cell_type": "code",
   "execution_count": 13,
   "metadata": {},
   "outputs": [],
   "source": [
    "from sklearn.model_selection import train_test_split\n",
    "X_train, X_test, C_train, C_test = train_test_split(X, C, test_size=0.1, random_state=0)"
   ]
  },
  {
   "cell_type": "markdown",
   "metadata": {},
   "source": [
    "モデル定義はirisの時と同じ。"
   ]
  },
  {
   "cell_type": "code",
   "execution_count": 14,
   "metadata": {},
   "outputs": [],
   "source": [
    "model = torch.nn.Sequential(\n",
    "    torch.nn.Linear(in_features=D, out_features=M),\n",
    "    torch.nn.LogSoftmax(dim=1)\n",
    ").to(device)"
   ]
  },
  {
   "cell_type": "markdown",
   "metadata": {},
   "source": [
    "学習部分については関数化しておこう。"
   ]
  },
  {
   "cell_type": "code",
   "execution_count": 15,
   "metadata": {},
   "outputs": [],
   "source": [
    "def train(model, X, C, learning_rate=0.5, step_num=100):\n",
    "    for i in range(step_num):\n",
    "        Y = model(X) # forward計算\n",
    "        loss = crossEntropyLoss(Y, C) # 損失の計算\n",
    "        W, b = model.parameters()\n",
    "        if W.grad is not None:\n",
    "            W.grad.data.zero_()\n",
    "            b.grad.data.zero_()\n",
    "\n",
    "        loss.backward() # backward計算\n",
    "        # 勾配法\n",
    "        W.data -= learning_rate * W.grad.data\n",
    "        b.data -= learning_rate * b.grad.data\n",
    "        print(\"epoch {}: loss = {}\".format(i+1,loss))"
   ]
  },
  {
   "cell_type": "markdown",
   "metadata": {},
   "source": [
    "では学習してみよう。"
   ]
  },
  {
   "cell_type": "code",
   "execution_count": 16,
   "metadata": {},
   "outputs": [
    {
     "name": "stdout",
     "output_type": "stream",
     "text": [
      "epoch 1: loss = 2.2661890983581543\n",
      "epoch 2: loss = 1.8042733669281006\n",
      "epoch 3: loss = 1.4957891702651978\n",
      "epoch 4: loss = 1.2897237539291382\n",
      "epoch 5: loss = 1.1467643976211548\n",
      "epoch 6: loss = 1.0422625541687012\n",
      "epoch 7: loss = 0.9632754325866699\n",
      "epoch 8: loss = 0.9013505578041077\n",
      "epoch 9: loss = 0.8517554402351379\n",
      "epoch 10: loss = 0.8105382323265076\n",
      "epoch 11: loss = 0.7762312293052673\n",
      "epoch 12: loss = 0.7467442750930786\n",
      "epoch 13: loss = 0.7214733362197876\n",
      "epoch 14: loss = 0.6993616819381714\n",
      "epoch 15: loss = 0.6799502968788147\n",
      "epoch 16: loss = 0.6626967787742615\n",
      "epoch 17: loss = 0.6472556591033936\n",
      "epoch 18: loss = 0.6333234310150146\n",
      "epoch 19: loss = 0.6206725239753723\n",
      "epoch 20: loss = 0.6091181635856628\n",
      "epoch 21: loss = 0.5985129475593567\n",
      "epoch 22: loss = 0.5887360572814941\n",
      "epoch 23: loss = 0.5796873569488525\n",
      "epoch 24: loss = 0.5712826251983643\n",
      "epoch 25: loss = 0.5634509921073914\n",
      "epoch 26: loss = 0.5561316609382629\n",
      "epoch 27: loss = 0.5492722988128662\n",
      "epoch 28: loss = 0.542827844619751\n",
      "epoch 29: loss = 0.5367587804794312\n",
      "epoch 30: loss = 0.5310310125350952\n",
      "epoch 31: loss = 0.5256142020225525\n",
      "epoch 32: loss = 0.5204819440841675\n",
      "epoch 33: loss = 0.51561039686203\n",
      "epoch 34: loss = 0.5109785795211792\n",
      "epoch 35: loss = 0.5065680146217346\n",
      "epoch 36: loss = 0.5023618936538696\n",
      "epoch 37: loss = 0.49834495782852173\n",
      "epoch 38: loss = 0.49450379610061646\n",
      "epoch 39: loss = 0.4908261299133301\n",
      "epoch 40: loss = 0.4873008131980896\n",
      "epoch 41: loss = 0.4839177429676056\n",
      "epoch 42: loss = 0.4806678593158722\n",
      "epoch 43: loss = 0.47754257917404175\n",
      "epoch 44: loss = 0.4745343327522278\n",
      "epoch 45: loss = 0.471636027097702\n",
      "epoch 46: loss = 0.46884116530418396\n",
      "epoch 47: loss = 0.4661438763141632\n",
      "epoch 48: loss = 0.4635387361049652\n",
      "epoch 49: loss = 0.46102046966552734\n",
      "epoch 50: loss = 0.4585844874382019\n",
      "epoch 51: loss = 0.45622652769088745\n",
      "epoch 52: loss = 0.45394232869148254\n",
      "epoch 53: loss = 0.4517284333705902\n",
      "epoch 54: loss = 0.4495811462402344\n",
      "epoch 55: loss = 0.4474971890449524\n",
      "epoch 56: loss = 0.44547364115715027\n",
      "epoch 57: loss = 0.4435076117515564\n",
      "epoch 58: loss = 0.44159644842147827\n",
      "epoch 59: loss = 0.43973761796951294\n",
      "epoch 60: loss = 0.43792885541915894\n",
      "epoch 61: loss = 0.43616795539855957\n",
      "epoch 62: loss = 0.43445274233818054\n",
      "epoch 63: loss = 0.4327813386917114\n",
      "epoch 64: loss = 0.43115201592445374\n",
      "epoch 65: loss = 0.42956289649009705\n",
      "epoch 66: loss = 0.4280124306678772\n",
      "epoch 67: loss = 0.4264990985393524\n",
      "epoch 68: loss = 0.42502138018608093\n",
      "epoch 69: loss = 0.4235779345035553\n",
      "epoch 70: loss = 0.42216745018959045\n",
      "epoch 71: loss = 0.4207887351512909\n",
      "epoch 72: loss = 0.41944050788879395\n",
      "epoch 73: loss = 0.4181217849254608\n",
      "epoch 74: loss = 0.41683143377304077\n",
      "epoch 75: loss = 0.41556844115257263\n",
      "epoch 76: loss = 0.41433191299438477\n",
      "epoch 77: loss = 0.41312089562416077\n",
      "epoch 78: loss = 0.4119345247745514\n",
      "epoch 79: loss = 0.4107719361782074\n",
      "epoch 80: loss = 0.4096323847770691\n",
      "epoch 81: loss = 0.40851515531539917\n",
      "epoch 82: loss = 0.40741950273513794\n",
      "epoch 83: loss = 0.4063447117805481\n",
      "epoch 84: loss = 0.40529006719589233\n",
      "epoch 85: loss = 0.40425506234169006\n",
      "epoch 86: loss = 0.40323904156684875\n",
      "epoch 87: loss = 0.40224140882492065\n",
      "epoch 88: loss = 0.40126165747642517\n",
      "epoch 89: loss = 0.40029922127723694\n",
      "epoch 90: loss = 0.39935365319252014\n",
      "epoch 91: loss = 0.3984243869781494\n",
      "epoch 92: loss = 0.39751094579696655\n",
      "epoch 93: loss = 0.3966129720211029\n",
      "epoch 94: loss = 0.39573004841804504\n",
      "epoch 95: loss = 0.3948615789413452\n",
      "epoch 96: loss = 0.3940073251724243\n",
      "epoch 97: loss = 0.39316678047180176\n",
      "epoch 98: loss = 0.3923397958278656\n",
      "epoch 99: loss = 0.3915256857872009\n",
      "epoch 100: loss = 0.3907244801521301\n",
      "epoch 101: loss = 0.38993555307388306\n",
      "epoch 102: loss = 0.3891587257385254\n",
      "epoch 103: loss = 0.38839370012283325\n",
      "epoch 104: loss = 0.387640118598938\n",
      "epoch 105: loss = 0.3868976831436157\n",
      "epoch 106: loss = 0.38616612553596497\n",
      "epoch 107: loss = 0.3854452669620514\n",
      "epoch 108: loss = 0.38473471999168396\n",
      "epoch 109: loss = 0.3840343952178955\n",
      "epoch 110: loss = 0.383343905210495\n",
      "epoch 111: loss = 0.3826631009578705\n",
      "epoch 112: loss = 0.3819916844367981\n",
      "epoch 113: loss = 0.3813295066356659\n",
      "epoch 114: loss = 0.3806763291358948\n",
      "epoch 115: loss = 0.38003191351890564\n",
      "epoch 116: loss = 0.37939614057540894\n",
      "epoch 117: loss = 0.3787687420845032\n",
      "epoch 118: loss = 0.37814953923225403\n",
      "epoch 119: loss = 0.37753841280937195\n",
      "epoch 120: loss = 0.3769351541996002\n",
      "epoch 121: loss = 0.3763396143913269\n",
      "epoch 122: loss = 0.3757516145706177\n",
      "epoch 123: loss = 0.3751709461212158\n",
      "epoch 124: loss = 0.3745975196361542\n",
      "epoch 125: loss = 0.3740311563014984\n",
      "epoch 126: loss = 0.373471736907959\n",
      "epoch 127: loss = 0.37291914224624634\n",
      "epoch 128: loss = 0.3723730444908142\n",
      "epoch 129: loss = 0.37183353304862976\n",
      "epoch 130: loss = 0.3713003695011139\n",
      "epoch 131: loss = 0.3707735240459442\n",
      "epoch 132: loss = 0.3702527582645416\n",
      "epoch 133: loss = 0.36973804235458374\n",
      "epoch 134: loss = 0.36922919750213623\n",
      "epoch 135: loss = 0.36872613430023193\n",
      "epoch 136: loss = 0.3682287633419037\n",
      "epoch 137: loss = 0.3677368760108948\n",
      "epoch 138: loss = 0.36725053191185\n",
      "epoch 139: loss = 0.3667695224285126\n",
      "epoch 140: loss = 0.3662937581539154\n",
      "epoch 141: loss = 0.3658231198787689\n",
      "epoch 142: loss = 0.3653576374053955\n",
      "epoch 143: loss = 0.36489710211753845\n",
      "epoch 144: loss = 0.3644413948059082\n",
      "epoch 145: loss = 0.36399057507514954\n",
      "epoch 146: loss = 0.36354440450668335\n",
      "epoch 147: loss = 0.36310285329818726\n",
      "epoch 148: loss = 0.36266589164733887\n",
      "epoch 149: loss = 0.36223337054252625\n",
      "epoch 150: loss = 0.3618053197860718\n",
      "epoch 151: loss = 0.361381471157074\n",
      "epoch 152: loss = 0.36096200346946716\n",
      "epoch 153: loss = 0.3605465590953827\n",
      "epoch 154: loss = 0.3601353168487549\n",
      "epoch 155: loss = 0.3597281575202942\n",
      "epoch 156: loss = 0.3593249022960663\n",
      "epoch 157: loss = 0.3589255213737488\n",
      "epoch 158: loss = 0.3585299551486969\n",
      "epoch 159: loss = 0.3581383526325226\n",
      "epoch 160: loss = 0.35775026679039\n",
      "epoch 161: loss = 0.3573658764362335\n",
      "epoch 162: loss = 0.3569851517677307\n",
      "epoch 163: loss = 0.35660800337791443\n",
      "epoch 164: loss = 0.35623419284820557\n",
      "epoch 165: loss = 0.3558639585971832\n",
      "epoch 166: loss = 0.3554970324039459\n",
      "epoch 167: loss = 0.35513344407081604\n",
      "epoch 168: loss = 0.3547731935977936\n",
      "epoch 169: loss = 0.3544161021709442\n",
      "epoch 170: loss = 0.3540622293949127\n",
      "epoch 171: loss = 0.35371142625808716\n",
      "epoch 172: loss = 0.3533637821674347\n",
      "epoch 173: loss = 0.3530191481113434\n",
      "epoch 174: loss = 0.35267749428749084\n",
      "epoch 175: loss = 0.3523388206958771\n",
      "epoch 176: loss = 0.3520030677318573\n",
      "epoch 177: loss = 0.35167011618614197\n",
      "epoch 178: loss = 0.35133999586105347\n",
      "epoch 179: loss = 0.3510127067565918\n",
      "epoch 180: loss = 0.3506881594657898\n",
      "epoch 181: loss = 0.3503662943840027\n",
      "epoch 182: loss = 0.3500470817089081\n",
      "epoch 183: loss = 0.3497304916381836\n",
      "epoch 184: loss = 0.3494165241718292\n",
      "epoch 185: loss = 0.3491050899028778\n",
      "epoch 186: loss = 0.3487962782382965\n",
      "epoch 187: loss = 0.3484898507595062\n",
      "epoch 188: loss = 0.3481858968734741\n",
      "epoch 189: loss = 0.34788429737091064\n",
      "epoch 190: loss = 0.34758520126342773\n",
      "epoch 191: loss = 0.3472883999347687\n",
      "epoch 192: loss = 0.34699398279190063\n",
      "epoch 193: loss = 0.34670180082321167\n",
      "epoch 194: loss = 0.3464118540287018\n",
      "epoch 195: loss = 0.34612420201301575\n",
      "epoch 196: loss = 0.3458387553691864\n",
      "epoch 197: loss = 0.34555545449256897\n",
      "epoch 198: loss = 0.34527432918548584\n",
      "epoch 199: loss = 0.34499529004096985\n",
      "epoch 200: loss = 0.3447183668613434\n"
     ]
    }
   ],
   "source": [
    "X_train_t = torch.from_numpy(X_train).to(device)\n",
    "C_train_t = torch.from_numpy(C_train).to(device)\n",
    "train(model, X_train_t, C_train_t, step_num=200)"
   ]
  },
  {
   "cell_type": "markdown",
   "metadata": {},
   "source": [
    "正解率を調べる。"
   ]
  },
  {
   "cell_type": "code",
   "execution_count": 17,
   "metadata": {},
   "outputs": [
    {
     "data": {
      "text/plain": [
       "0.9032857142857142"
      ]
     },
     "execution_count": 17,
     "metadata": {},
     "output_type": "execute_result"
    }
   ],
   "source": [
    "X_test_t = torch.from_numpy(X_test).to(device)\n",
    "C_test_t = torch.from_numpy(C_test).to(device)\n",
    "accuracy(model, X_test_t, C_test_t)"
   ]
  },
  {
   "cell_type": "markdown",
   "metadata": {},
   "source": [
    "## ミニバッチ学習\n",
    "ここまでは、全データで一挙に重みを更新した。これをバッチ学習という。これに対し、深層学習の世界では、全データをいくつかのミニバッチに分割して勾配降下法を実行するSGD(確率的勾配降下法)、またの名をミニバッチ学習という学習方法がよく使われる。この方法は、収束が速く、局所最小値にはまる危険が少ない特長を持っている。\n",
    "\n",
    "PyTorchでは、DataLoaderという機能を使うとデータを自動的にミニバッチに分割してくれる。この機能を使うために、まずMNIST用にデータセットを定義しておく。"
   ]
  },
  {
   "cell_type": "code",
   "execution_count": 18,
   "metadata": {},
   "outputs": [],
   "source": [
    "from torch.utils.data import Dataset, DataLoader\n",
    "\n",
    "class MNISTTrainDataSet(Dataset):\n",
    "    def __len__(self):\n",
    "        return X_train.shape[0]\n",
    "    \n",
    "    def __getitem__(self, idx):\n",
    "        return X_train[idx].astype('float'), C_train[idx]"
   ]
  },
  {
   "cell_type": "markdown",
   "metadata": {},
   "source": [
    "今回のDataLoaderでは、バッチサイズを50とする。つまり、70000個のデータを50個ずつに分割し、それぞれで勾配降下法によりパラメータを更新する。これを全データに対して行う。全データを1回なめることを1エポックという。"
   ]
  },
  {
   "cell_type": "code",
   "execution_count": 19,
   "metadata": {},
   "outputs": [],
   "source": [
    "mnist = MNISTTrainDataSet()\n",
    "train_loader = DataLoader(dataset=mnist,batch_size=50,shuffle=True)"
   ]
  },
  {
   "cell_type": "markdown",
   "metadata": {},
   "source": [
    "モデルは上と同じ。"
   ]
  },
  {
   "cell_type": "code",
   "execution_count": 20,
   "metadata": {},
   "outputs": [],
   "source": [
    "model = torch.nn.Sequential(\n",
    "    torch.nn.Linear(in_features=D, out_features=M),\n",
    "    torch.nn.LogSoftmax(dim=1)\n",
    ").to(device)"
   ]
  },
  {
   "cell_type": "markdown",
   "metadata": {},
   "source": [
    "学習部分は以下のようになる。"
   ]
  },
  {
   "cell_type": "code",
   "execution_count": 21,
   "metadata": {},
   "outputs": [],
   "source": [
    "def train(model, learning_rate=0.5, num_epochs=100):\n",
    "    for epoch in range(num_epochs):\n",
    "        for X, C in train_loader:\n",
    "            X = X.float() # DataLoaderはデータをdouble型で渡すので、後の処理のためにfloat型に変換\n",
    "            X, C = X.to(device), C.to(device)\n",
    "            Y = model(X) # forward計算\n",
    "            loss = crossEntropyLoss(Y, C) # 損失の計算\n",
    "            W, b = model.parameters()\n",
    "            if W.grad is not None:\n",
    "                W.grad.data.zero_()\n",
    "                b.grad.data.zero_()\n",
    "\n",
    "            loss.backward() # backward計算\n",
    "            # 勾配法\n",
    "            W.data -= learning_rate * W.grad.data\n",
    "            b.data -= learning_rate * b.grad.data\n",
    "        Y = model(X_train_t)\n",
    "        print('Epoch [%d/%d], Loss: %.4f' % (epoch+1, num_epochs, crossEntropyLoss(Y, C_train_t)))"
   ]
  },
  {
   "cell_type": "code",
   "execution_count": 22,
   "metadata": {},
   "outputs": [
    {
     "name": "stdout",
     "output_type": "stream",
     "text": [
      "Epoch [1/100], Loss: 0.3358\n",
      "Epoch [2/100], Loss: 0.3056\n",
      "Epoch [3/100], Loss: 0.2921\n",
      "Epoch [4/100], Loss: 0.2842\n",
      "Epoch [5/100], Loss: 0.2784\n",
      "Epoch [6/100], Loss: 0.2756\n",
      "Epoch [7/100], Loss: 0.2706\n",
      "Epoch [8/100], Loss: 0.2693\n",
      "Epoch [9/100], Loss: 0.2662\n",
      "Epoch [10/100], Loss: 0.2635\n",
      "Epoch [11/100], Loss: 0.2649\n",
      "Epoch [12/100], Loss: 0.2602\n",
      "Epoch [13/100], Loss: 0.2588\n",
      "Epoch [14/100], Loss: 0.2591\n",
      "Epoch [15/100], Loss: 0.2568\n",
      "Epoch [16/100], Loss: 0.2557\n",
      "Epoch [17/100], Loss: 0.2553\n",
      "Epoch [18/100], Loss: 0.2565\n",
      "Epoch [19/100], Loss: 0.2554\n",
      "Epoch [20/100], Loss: 0.2521\n",
      "Epoch [21/100], Loss: 0.2546\n",
      "Epoch [22/100], Loss: 0.2519\n",
      "Epoch [23/100], Loss: 0.2508\n",
      "Epoch [24/100], Loss: 0.2502\n",
      "Epoch [25/100], Loss: 0.2492\n",
      "Epoch [26/100], Loss: 0.2476\n",
      "Epoch [27/100], Loss: 0.2478\n",
      "Epoch [28/100], Loss: 0.2462\n",
      "Epoch [29/100], Loss: 0.2474\n",
      "Epoch [30/100], Loss: 0.2481\n",
      "Epoch [31/100], Loss: 0.2462\n",
      "Epoch [32/100], Loss: 0.2476\n",
      "Epoch [33/100], Loss: 0.2446\n",
      "Epoch [34/100], Loss: 0.2441\n",
      "Epoch [35/100], Loss: 0.2445\n",
      "Epoch [36/100], Loss: 0.2426\n",
      "Epoch [37/100], Loss: 0.2433\n",
      "Epoch [38/100], Loss: 0.2440\n",
      "Epoch [39/100], Loss: 0.2430\n",
      "Epoch [40/100], Loss: 0.2430\n",
      "Epoch [41/100], Loss: 0.2412\n",
      "Epoch [42/100], Loss: 0.2426\n",
      "Epoch [43/100], Loss: 0.2415\n",
      "Epoch [44/100], Loss: 0.2404\n",
      "Epoch [45/100], Loss: 0.2425\n",
      "Epoch [46/100], Loss: 0.2415\n",
      "Epoch [47/100], Loss: 0.2396\n",
      "Epoch [48/100], Loss: 0.2401\n",
      "Epoch [49/100], Loss: 0.2406\n",
      "Epoch [50/100], Loss: 0.2418\n",
      "Epoch [51/100], Loss: 0.2396\n",
      "Epoch [52/100], Loss: 0.2387\n",
      "Epoch [53/100], Loss: 0.2416\n",
      "Epoch [54/100], Loss: 0.2393\n",
      "Epoch [55/100], Loss: 0.2386\n",
      "Epoch [56/100], Loss: 0.2406\n",
      "Epoch [57/100], Loss: 0.2382\n",
      "Epoch [58/100], Loss: 0.2377\n",
      "Epoch [59/100], Loss: 0.2393\n",
      "Epoch [60/100], Loss: 0.2385\n",
      "Epoch [61/100], Loss: 0.2366\n",
      "Epoch [62/100], Loss: 0.2368\n",
      "Epoch [63/100], Loss: 0.2368\n",
      "Epoch [64/100], Loss: 0.2364\n",
      "Epoch [65/100], Loss: 0.2381\n",
      "Epoch [66/100], Loss: 0.2375\n",
      "Epoch [67/100], Loss: 0.2359\n",
      "Epoch [68/100], Loss: 0.2355\n",
      "Epoch [69/100], Loss: 0.2349\n",
      "Epoch [70/100], Loss: 0.2351\n",
      "Epoch [71/100], Loss: 0.2354\n",
      "Epoch [72/100], Loss: 0.2371\n",
      "Epoch [73/100], Loss: 0.2341\n",
      "Epoch [74/100], Loss: 0.2361\n",
      "Epoch [75/100], Loss: 0.2337\n",
      "Epoch [76/100], Loss: 0.2339\n",
      "Epoch [77/100], Loss: 0.2343\n",
      "Epoch [78/100], Loss: 0.2344\n",
      "Epoch [79/100], Loss: 0.2343\n",
      "Epoch [80/100], Loss: 0.2373\n",
      "Epoch [81/100], Loss: 0.2361\n",
      "Epoch [82/100], Loss: 0.2350\n",
      "Epoch [83/100], Loss: 0.2356\n",
      "Epoch [84/100], Loss: 0.2339\n",
      "Epoch [85/100], Loss: 0.2324\n",
      "Epoch [86/100], Loss: 0.2342\n",
      "Epoch [87/100], Loss: 0.2336\n",
      "Epoch [88/100], Loss: 0.2327\n",
      "Epoch [89/100], Loss: 0.2321\n",
      "Epoch [90/100], Loss: 0.2314\n",
      "Epoch [91/100], Loss: 0.2335\n",
      "Epoch [92/100], Loss: 0.2321\n",
      "Epoch [93/100], Loss: 0.2330\n",
      "Epoch [94/100], Loss: 0.2327\n",
      "Epoch [95/100], Loss: 0.2324\n",
      "Epoch [96/100], Loss: 0.2325\n",
      "Epoch [97/100], Loss: 0.2309\n",
      "Epoch [98/100], Loss: 0.2345\n",
      "Epoch [99/100], Loss: 0.2312\n",
      "Epoch [100/100], Loss: 0.2308\n"
     ]
    }
   ],
   "source": [
    "train(model,learning_rate=0.1)"
   ]
  },
  {
   "cell_type": "code",
   "execution_count": 23,
   "metadata": {},
   "outputs": [
    {
     "data": {
      "text/plain": [
       "0.924"
      ]
     },
     "execution_count": 23,
     "metadata": {},
     "output_type": "execute_result"
    }
   ],
   "source": [
    "accuracy(model, X_test_t, C_test_t)"
   ]
  },
  {
   "cell_type": "markdown",
   "metadata": {},
   "source": [
    "## Feed-forwardネットワーク\n",
    "多クラスロジスティック回帰を少し拡張してみる。(記号を少し変えてある)\n",
    "\\begin{aligned}\n",
    "\\boldsymbol{a}_1&=\\boldsymbol{x}^\\top\\boldsymbol{W}^{(1)}+\\boldsymbol{b}^{(1)}\\\\\n",
    "\\boldsymbol{z}_1&=\\sigma(\\boldsymbol{a}_1) \\\\\n",
    "\\boldsymbol{a}_2&={\\boldsymbol{z}_1}^\\top\\boldsymbol{W}^{(2)} +\\boldsymbol{b}^{(2)}\\\\\n",
    "\\boldsymbol{y}&=\\text{softmax}(\\boldsymbol{a}_2)\n",
    "\\end{aligned}\n",
    "$\\boldsymbol{x}$ → $\\boldsymbol{z_1}$ → $\\boldsymbol{y}$ の順でデータが変換されているのがわかるだろうか。\n",
    "\n",
    "$\\boldsymbol{W}^{(1)}$ は $D\\times H$行列、$\\boldsymbol{b}^{(1)}$ は $H$次元ベクトル、$\\boldsymbol{W}^{(2)}$ は $H\\times M$行列、$\\boldsymbol{b}^{(2)}$ は $M$次元ベクトルである。(プラス1は切片のため)  $\\boldsymbol{z}^+$ は $\\boldsymbol{z}$ を1で拡張したベクトルを表す。$H$ は任意に決められるが、この数が重要であることが後でわかる。\n",
    "\n",
    "$\\sigma(\\cdot)$ はロジスティック関数であり、上式の $\\boldsymbol{z}_1=\\sigma(\\boldsymbol{a}_1)$ とは $\\boldsymbol{a}_1$ の各次元の値をロジスティック関数に通した値をつなげてベクトルにするという意味である。この関数は、PyTorchでは torch.nn.Sigmoid() として提供されている。"
   ]
  },
  {
   "cell_type": "code",
   "execution_count": 25,
   "metadata": {},
   "outputs": [],
   "source": [
    "hidden_units = 500\n",
    "model = torch.nn.Sequential(\n",
    "    torch.nn.Linear(in_features=D, out_features=hidden_units),\n",
    "    torch.nn.Sigmoid(),\n",
    "    torch.nn.Linear(in_features=hidden_units, out_features=M),\n",
    "    torch.nn.LogSoftmax(dim=1)\n",
    ")"
   ]
  },
  {
   "cell_type": "code",
   "execution_count": 24,
   "metadata": {},
   "outputs": [],
   "source": [
    "def train(model, learning_rate=0.5, num_epochs=100):\n",
    "    for epoch in range(num_epochs):\n",
    "        for X, C in train_loader:\n",
    "            X = X.float() # DataLoaderはデータをdouble型で渡すので、後の処理のためにfloat型に変換\n",
    "            X, C = X.to(device), C.to(device)\n",
    "            Y = model(X) # forward計算\n",
    "            loss = crossEntropyLoss(Y, C) # 損失の計算\n",
    "            W1, b1, W2, b2 = model.parameters()\n",
    "            if W1.grad is not None:\n",
    "                W1.grad.data.zero_()\n",
    "                b1.grad.data.zero_()\n",
    "            if W2.grad is not None:\n",
    "                W2.grad.data.zero_()\n",
    "                b2.grad.data.zero_()\n",
    "            loss.backward() # backward計算\n",
    "            # 勾配法\n",
    "            W1.data -= learning_rate * W1.grad.data\n",
    "            b1.data -= learning_rate * b1.grad.data\n",
    "            W2.data -= learning_rate * W2.grad.data\n",
    "            b2.data -= learning_rate * b2.grad.data\n",
    "\n",
    "        Y = model(X_train_t)\n",
    "        print('Epoch [%d/%d], Loss: %.4f' % (epoch+1, num_epochs, crossEntropyLoss(Y, C_train_t)))"
   ]
  },
  {
   "cell_type": "code",
   "execution_count": 26,
   "metadata": {},
   "outputs": [
    {
     "name": "stdout",
     "output_type": "stream",
     "text": [
      "Epoch [1/100], Loss: 0.2538\n",
      "Epoch [2/100], Loss: 0.1752\n",
      "Epoch [3/100], Loss: 0.1417\n",
      "Epoch [4/100], Loss: 0.1083\n",
      "Epoch [5/100], Loss: 0.0928\n",
      "Epoch [6/100], Loss: 0.0777\n",
      "Epoch [7/100], Loss: 0.0702\n",
      "Epoch [8/100], Loss: 0.0567\n",
      "Epoch [9/100], Loss: 0.0537\n",
      "Epoch [10/100], Loss: 0.0437\n",
      "Epoch [11/100], Loss: 0.0407\n",
      "Epoch [12/100], Loss: 0.0348\n",
      "Epoch [13/100], Loss: 0.0345\n",
      "Epoch [14/100], Loss: 0.0281\n",
      "Epoch [15/100], Loss: 0.0259\n",
      "Epoch [16/100], Loss: 0.0276\n",
      "Epoch [17/100], Loss: 0.0208\n",
      "Epoch [18/100], Loss: 0.0189\n",
      "Epoch [19/100], Loss: 0.0176\n",
      "Epoch [20/100], Loss: 0.0160\n",
      "Epoch [21/100], Loss: 0.0157\n",
      "Epoch [22/100], Loss: 0.0129\n",
      "Epoch [23/100], Loss: 0.0141\n",
      "Epoch [24/100], Loss: 0.0110\n",
      "Epoch [25/100], Loss: 0.0106\n",
      "Epoch [26/100], Loss: 0.0102\n",
      "Epoch [27/100], Loss: 0.0088\n",
      "Epoch [28/100], Loss: 0.0093\n",
      "Epoch [29/100], Loss: 0.0076\n",
      "Epoch [30/100], Loss: 0.0071\n",
      "Epoch [31/100], Loss: 0.0066\n",
      "Epoch [32/100], Loss: 0.0065\n",
      "Epoch [33/100], Loss: 0.0058\n",
      "Epoch [34/100], Loss: 0.0056\n",
      "Epoch [35/100], Loss: 0.0055\n",
      "Epoch [36/100], Loss: 0.0050\n",
      "Epoch [37/100], Loss: 0.0047\n",
      "Epoch [38/100], Loss: 0.0045\n",
      "Epoch [39/100], Loss: 0.0042\n",
      "Epoch [40/100], Loss: 0.0040\n",
      "Epoch [41/100], Loss: 0.0040\n",
      "Epoch [42/100], Loss: 0.0037\n",
      "Epoch [43/100], Loss: 0.0035\n",
      "Epoch [44/100], Loss: 0.0034\n",
      "Epoch [45/100], Loss: 0.0034\n",
      "Epoch [46/100], Loss: 0.0031\n",
      "Epoch [47/100], Loss: 0.0031\n",
      "Epoch [48/100], Loss: 0.0030\n",
      "Epoch [49/100], Loss: 0.0029\n",
      "Epoch [50/100], Loss: 0.0027\n",
      "Epoch [51/100], Loss: 0.0026\n",
      "Epoch [52/100], Loss: 0.0025\n",
      "Epoch [53/100], Loss: 0.0024\n",
      "Epoch [54/100], Loss: 0.0024\n",
      "Epoch [55/100], Loss: 0.0023\n",
      "Epoch [56/100], Loss: 0.0023\n",
      "Epoch [57/100], Loss: 0.0022\n",
      "Epoch [58/100], Loss: 0.0021\n",
      "Epoch [59/100], Loss: 0.0021\n",
      "Epoch [60/100], Loss: 0.0020\n",
      "Epoch [61/100], Loss: 0.0020\n",
      "Epoch [62/100], Loss: 0.0019\n",
      "Epoch [63/100], Loss: 0.0018\n",
      "Epoch [64/100], Loss: 0.0018\n",
      "Epoch [65/100], Loss: 0.0018\n",
      "Epoch [66/100], Loss: 0.0018\n",
      "Epoch [67/100], Loss: 0.0017\n",
      "Epoch [68/100], Loss: 0.0017\n",
      "Epoch [69/100], Loss: 0.0016\n",
      "Epoch [70/100], Loss: 0.0016\n",
      "Epoch [71/100], Loss: 0.0015\n",
      "Epoch [72/100], Loss: 0.0015\n",
      "Epoch [73/100], Loss: 0.0015\n",
      "Epoch [74/100], Loss: 0.0015\n",
      "Epoch [75/100], Loss: 0.0014\n",
      "Epoch [76/100], Loss: 0.0014\n",
      "Epoch [77/100], Loss: 0.0014\n",
      "Epoch [78/100], Loss: 0.0013\n",
      "Epoch [79/100], Loss: 0.0013\n",
      "Epoch [80/100], Loss: 0.0013\n",
      "Epoch [81/100], Loss: 0.0013\n",
      "Epoch [82/100], Loss: 0.0012\n",
      "Epoch [83/100], Loss: 0.0012\n",
      "Epoch [84/100], Loss: 0.0012\n",
      "Epoch [85/100], Loss: 0.0012\n",
      "Epoch [86/100], Loss: 0.0012\n",
      "Epoch [87/100], Loss: 0.0011\n",
      "Epoch [88/100], Loss: 0.0011\n",
      "Epoch [89/100], Loss: 0.0011\n",
      "Epoch [90/100], Loss: 0.0011\n",
      "Epoch [91/100], Loss: 0.0011\n",
      "Epoch [92/100], Loss: 0.0011\n",
      "Epoch [93/100], Loss: 0.0010\n",
      "Epoch [94/100], Loss: 0.0010\n",
      "Epoch [95/100], Loss: 0.0010\n",
      "Epoch [96/100], Loss: 0.0010\n",
      "Epoch [97/100], Loss: 0.0010\n",
      "Epoch [98/100], Loss: 0.0010\n",
      "Epoch [99/100], Loss: 0.0010\n",
      "Epoch [100/100], Loss: 0.0009\n"
     ]
    }
   ],
   "source": [
    "train(model,learning_rate=0.5)"
   ]
  },
  {
   "cell_type": "code",
   "execution_count": 27,
   "metadata": {},
   "outputs": [
    {
     "data": {
      "text/plain": [
       "0.9818571428571429"
      ]
     },
     "execution_count": 27,
     "metadata": {},
     "output_type": "execute_result"
    }
   ],
   "source": [
    "accuracy(model, X_test_t, C_test_t)"
   ]
  },
  {
   "cell_type": "markdown",
   "metadata": {},
   "source": [
    "# 課題\n",
    "1. Feed-forwardネットワークは、「多層パーセプトロン」という別名を持つ、もっとも基本的なニューラルネットである。ニューラルネットとは何か、なぜニューラルネットと呼ばれるのかについて、研究室の蔵書を読んでおくこと。(「これならわかる深層学習入門」がおすすめ)\n",
    "1. (重要) Feed-forwardネットワークにより手書き数字画像のモデル化を行い、多クラスロジスティック回帰と性能を比較せよ。隠れ層ユニットの数 (${}=H$) について、いろいろ試してみよ。\n",
    "1. $\\boldsymbol{x}$ から $\\boldsymbol{a}$ へは線形変換、 $\\boldsymbol{a}$ から $\\boldsymbol{z}$ へは非線形変換になっている。もし $\\boldsymbol{a}$ から $\\boldsymbol{z}$ が線形変換であれば、このモデルは多クラスロジスティック回帰と等価になってしまう。なぜか。"
   ]
  },
  {
   "cell_type": "code",
   "execution_count": null,
   "metadata": {},
   "outputs": [],
   "source": []
  }
 ],
 "metadata": {
  "kernelspec": {
   "display_name": "Python 3 (ipykernel)",
   "language": "python",
   "name": "python3"
  },
  "language_info": {
   "codemirror_mode": {
    "name": "ipython",
    "version": 3
   },
   "file_extension": ".py",
   "mimetype": "text/x-python",
   "name": "python",
   "nbconvert_exporter": "python",
   "pygments_lexer": "ipython3",
   "version": "3.8.13"
  }
 },
 "nbformat": 4,
 "nbformat_minor": 2
}
