{
 "cells": [
  {
   "cell_type": "markdown",
   "metadata": {},
   "source": [
    "# PyTorchを使う\n",
    "PyTorchは深層学習フレームワークの1つ。1からプログラムをするのに比べ簡単で、かつGPUを利用した計算ができる。ほかにもTensorFlow, Chainerなど多くのフレームワークがある。本格的なディープラーニングでは、事実上、このいずれかを利用することになる。\n",
    "\n",
    "使うときには以下のようにする。"
   ]
  },
  {
   "cell_type": "code",
   "execution_count": 1,
   "metadata": {},
   "outputs": [],
   "source": [
    "import torch"
   ]
  },
  {
   "cell_type": "markdown",
   "metadata": {},
   "source": [
    "## 多クラスロジスティック回帰"
   ]
  },
  {
   "cell_type": "markdown",
   "metadata": {},
   "source": [
    "PyTorchでは、変数は Tensor という型に入れる。numpyのデータからはfrom_numpy関数で変換できる。"
   ]
  },
  {
   "cell_type": "code",
   "execution_count": 2,
   "metadata": {},
   "outputs": [],
   "source": [
    "import numpy as np\n",
    "from sklearn import datasets\n",
    "\n",
    "iris = datasets.load_iris()\n",
    "M = iris.target_names.size # クラス(アヤメの種類)の数\n",
    "D = iris.data.shape[1] # 特徴量の数\n",
    "X = torch.from_numpy(iris.data).float()\n",
    "C = torch.from_numpy(iris.target)"
   ]
  },
  {
   "cell_type": "code",
   "execution_count": 3,
   "metadata": {},
   "outputs": [],
   "source": [
    "X_train = X[0::2] # 偶数番目\n",
    "X_test = X[1::2] # 奇数番目\n",
    "C_train = C[0::2]\n",
    "C_test = C[1::2]"
   ]
  },
  {
   "cell_type": "markdown",
   "metadata": {},
   "source": [
    "多クラスロジスティック回帰は、\n",
    "<span id=\"multiclasslogistic\">\n",
    "\\begin{align*}\n",
    "z_m&=\\boldsymbol{w_m}^\\top\\boldsymbol{x} \\\\\n",
    "y_m&=\\text{softmax}(z_m)=\\frac{\\exp(z_m)}{\\sum_j \\exp(z_j)}\n",
    "\\end{align*}\n",
    "</span>\n",
    "だった。まず $\\boldsymbol{x}$ を $\\boldsymbol{W}$ で線形変換して $\\boldsymbol{z}$ を得る。次に $\\boldsymbol{z}$ を softmax 関数に通して $\\boldsymbol{y}$ を得るという手順であった。\n",
    "\n",
    "PyTorchでは、このようなベクトル(テンソル)の変換の繰り返しでモデルを定義する。線形変換には Linear, 対数 softmax には LogSoftmax というモジュールをモデルに順番に追加する。"
   ]
  },
  {
   "cell_type": "code",
   "execution_count": 5,
   "metadata": {},
   "outputs": [],
   "source": [
    "model = torch.nn.Sequential()\n",
    "model.add_module(\"linear\", torch.nn.Linear(in_features=D,out_features=M))\n",
    "model.add_module(\"softmax\", torch.nn.LogSoftmax(dim=1))"
   ]
  },
  {
   "cell_type": "markdown",
   "metadata": {},
   "source": [
    "損失関数は、自分で定義しなくとも最初からいろいろ用意されている。ロジスティック回帰の損失関数は負の対数尤度 (Negative Log Likelihood) なので NLLLoss という関数が使える。"
   ]
  },
  {
   "cell_type": "code",
   "execution_count": 12,
   "metadata": {},
   "outputs": [],
   "source": [
    "crossEntropyLoss = torch.nn.NLLLoss() # 損失関数"
   ]
  },
  {
   "cell_type": "markdown",
   "metadata": {},
   "source": [
    "PyTorchを使ったモデル学習の基本は次の通りである。\n",
    "\n",
    "まず、forward (前向き) 計算を行う。入力から出力への向きのことを前向きと呼ぶ。ここでは $\\boldsymbol{x}$ から $\\boldsymbol{z}$ 、$\\boldsymbol{z}$ から $\\boldsymbol{y}$ の計算である。上で定義した model 関数を使うと、出力の計算(=forward計算)が行える。\n",
    "\n",
    "出力がわかると、教師データとの関係から損失が計算できる。次に損失を計算する。上で定義した crossEntropyLoss 関数に、出力と教師データを与えると計算してくれる。\n",
    "\n",
    "次に、最小化したい値(ここでは loss)に対してbackward (後向き) 計算を行う。ここで計算されているのは誤差と呼ばれる値である。多クラスロジスティック回帰の場合には、クラス $m$ の教師信号との誤差は $y_m-t_m$ である。第2回の課題(2)でやったように、 $E$ の勾配は\n",
    "$\\sum_k (y_{km}-t_{km})\\boldsymbol{x}$ となる。つまり、誤差と入力の積によって勾配が計算できる。PyTorch の backward 関数は、各層の誤差を計算するのと同時に、その層への入力との積から勾配 grad を計算し、パラメータの中に保存する。なお計算した勾配は蓄積される仕様なので、backward計算の前にゼロクリアしている。\n",
    "\n",
    "後は今までと同じように、勾配に学習係数をかけた値をパラメータから引けば1回の更新が終了する。"
   ]
  },
  {
   "cell_type": "code",
   "execution_count": 7,
   "metadata": {},
   "outputs": [],
   "source": [
    "learning_rate = 0.1\n",
    "step_num = 10000\n",
    "\n",
    "for i in range(step_num):\n",
    "    Y = model(X_train) # forward計算\n",
    "    loss = crossEntropyLoss(Y, C_train) # 損失の計算\n",
    "    W, b = model.parameters()\n",
    "    if W.grad is not None:\n",
    "        W.grad.data.zero_()\n",
    "        b.grad.data.zero_()\n",
    "\n",
    "    loss.backward() # backward計算\n",
    "    # 勾配法\n",
    "    W.data -= learning_rate * W.grad.data\n",
    "    b.data -= learning_rate * b.grad.data"
   ]
  },
  {
   "cell_type": "markdown",
   "metadata": {},
   "source": [
    "学習の済んだモデルにテストデータの入力を入れると各クラスの対数確率が得られる。対数確率が最大のクラスが認識結果となる。"
   ]
  },
  {
   "cell_type": "code",
   "execution_count": 8,
   "metadata": {},
   "outputs": [
    {
     "data": {
      "text/plain": [
       "0.9466666666666667"
      ]
     },
     "execution_count": 8,
     "metadata": {},
     "output_type": "execute_result"
    }
   ],
   "source": [
    "Y_test = model(X_test)\n",
    "result = np.array([np.argmax(y) for y in Y_test.detach().numpy()])\n",
    "answer = C_test.detach().numpy()\n",
    "np.sum(np.equal(result, answer)) / C_test.shape[0]"
   ]
  },
  {
   "cell_type": "markdown",
   "metadata": {},
   "source": [
    "# 手書き数字の認識"
   ]
  },
  {
   "cell_type": "markdown",
   "metadata": {},
   "source": [
    "アヤメの分類よりももう少しだけ本格的な問題を解いてみる。[MNIST](https://en.wikipedia.org/wiki/MNIST_database)は0から9までの手書き数字画像のデータベースである。これを使って、多クラスロジスティック回帰モデルで手書き数字の認識をやってみよう。"
   ]
  },
  {
   "cell_type": "code",
   "execution_count": 4,
   "metadata": {},
   "outputs": [],
   "source": [
    "from shutil import copyfileobj\n",
    "from six.moves import urllib\n",
    "from sklearn.datasets import fetch_mldata\n",
    "import os\n",
    "import urllib.request\n",
    "\n",
    "# プロキシ設定 (大学の中でやるときだけ)\n",
    "proxy = urllib.request.ProxyHandler({'http': 'http://proxya.cc.utsunomiya-u.ac.jp:8080',\n",
    "                                     'https': 'http://proxya.cc.utsunomiya-u.ac.jp:8080'})\n",
    "opener = urllib.request.build_opener(proxy)\n",
    "urllib.request.install_opener(opener)\n",
    "# プロキシ設定 ここまで\n",
    "\n",
    "if not os.path.exists(\"mldata\"):\n",
    "    os.makedirs(\"mldata\")\n",
    "mnist_save_path = os.path.join(\"mldata\",\"mnist-original.mat\")\n",
    "if not os.path.exists(mnist_save_path):\n",
    "    mnist_url = urllib.request.urlopen(\"http://github.com/amplab/datascience-sp14/raw/master/lab7/mldata/mnist-original.mat\")\n",
    "    with open(mnist_save_path, \"wb\") as matlab_file:\n",
    "        copyfileobj(mnist_url, matlab_file)\n",
    "\n",
    "mnist = fetch_mldata(\"MNIST original\",data_home=\".\")"
   ]
  },
  {
   "cell_type": "markdown",
   "metadata": {},
   "source": [
    "mnist.data には0から255までの画素値、 mnist.target にはどの数字かを表す数値が入っている。まずXを最大値1に正規化する。"
   ]
  },
  {
   "cell_type": "code",
   "execution_count": 5,
   "metadata": {},
   "outputs": [
    {
     "data": {
      "text/plain": [
       "(70000, 784)"
      ]
     },
     "execution_count": 5,
     "metadata": {},
     "output_type": "execute_result"
    }
   ],
   "source": [
    "X = mnist.data / 255.0\n",
    "C = mnist.target.astype(np.long)\n",
    "X.shape"
   ]
  },
  {
   "cell_type": "markdown",
   "metadata": {},
   "source": [
    "データ数は全部で70000個、特徴量の数は画素数($28\\times28=784$)である。\n",
    "\n",
    "以下のコードで、データの1つを描画できる。Xの添字を適当に変えて、MNISTがどのようなデータなのか眺めておこう。"
   ]
  },
  {
   "cell_type": "code",
   "execution_count": 6,
   "metadata": {},
   "outputs": [
    {
     "data": {
      "text/plain": [
       "<matplotlib.image.AxesImage at 0x1a38319b38>"
      ]
     },
     "execution_count": 6,
     "metadata": {},
     "output_type": "execute_result"
    },
    {
     "data": {
      "image/png": "[encoded data removed]",
      "text/plain": [
       "<Figure size 432x288 with 1 Axes>"
      ]
     },
     "metadata": {
      "needs_background": "light"
     },
     "output_type": "display_data"
    }
   ],
   "source": [
    "%matplotlib inline\n",
    "import matplotlib.pyplot as plt\n",
    "\n",
    "plt.imshow(X[23450].reshape(28,28), cmap='gray')"
   ]
  },
  {
   "cell_type": "code",
   "execution_count": 7,
   "metadata": {},
   "outputs": [],
   "source": [
    "M = 10 # 数字の数\n",
    "D = 28 * 28 # 特徴量の数"
   ]
  },
  {
   "cell_type": "markdown",
   "metadata": {},
   "source": [
    "90%のデータで訓練、残り10%でテストする。"
   ]
  },
  {
   "cell_type": "code",
   "execution_count": 8,
   "metadata": {},
   "outputs": [],
   "source": [
    "from sklearn.model_selection import train_test_split\n",
    "X_train, X_test, C_train, C_test = train_test_split(X, C, test_size=0.1, random_state=0)"
   ]
  },
  {
   "cell_type": "markdown",
   "metadata": {},
   "source": [
    "モデル定義はirisの時と同じ。"
   ]
  },
  {
   "cell_type": "code",
   "execution_count": 14,
   "metadata": {},
   "outputs": [],
   "source": [
    "model = torch.nn.Sequential()\n",
    "model.add_module(\"linear\", torch.nn.Linear(in_features=D,out_features=M))\n",
    "model.add_module(\"softmax\", torch.nn.LogSoftmax(dim=1))"
   ]
  },
  {
   "cell_type": "markdown",
   "metadata": {},
   "source": [
    "学習部分については関数化しておこう。"
   ]
  },
  {
   "cell_type": "code",
   "execution_count": 11,
   "metadata": {},
   "outputs": [],
   "source": [
    "def train(model, X, C, learning_rate=0.5, step_num=100):\n",
    "    for i in range(step_num):\n",
    "        Y = model(X) # forward計算\n",
    "        loss = crossEntropyLoss(Y, C) # 損失の計算\n",
    "        W, b = model.parameters()\n",
    "        if W.grad is not None:\n",
    "            W.grad.data.zero_()\n",
    "            b.grad.data.zero_()\n",
    "\n",
    "        loss.backward() # backward計算\n",
    "        # 勾配法\n",
    "        W.data -= learning_rate * W.grad.data\n",
    "        b.data -= learning_rate * b.grad.data\n",
    "        print(\"epoch {}: loss = {}\".format(i+1,loss))"
   ]
  },
  {
   "cell_type": "markdown",
   "metadata": {},
   "source": [
    "では学習してみよう。"
   ]
  },
  {
   "cell_type": "code",
   "execution_count": 16,
   "metadata": {},
   "outputs": [
    {
     "name": "stdout",
     "output_type": "stream",
     "text": [
      "epoch 1: loss = 2.3183979988098145\n",
      "epoch 2: loss = 1.8407660722732544\n",
      "epoch 3: loss = 1.5262320041656494\n",
      "epoch 4: loss = 1.3103580474853516\n",
      "epoch 5: loss = 1.1680082082748413\n",
      "epoch 6: loss = 1.0559115409851074\n",
      "epoch 7: loss = 0.9797663688659668\n",
      "epoch 8: loss = 0.9114518761634827\n",
      "epoch 9: loss = 0.8633440136909485\n",
      "epoch 10: loss = 0.8175839781761169\n",
      "epoch 11: loss = 0.783067524433136\n",
      "epoch 12: loss = 0.7512417435646057\n",
      "epoch 13: loss = 0.7253132462501526\n",
      "epoch 14: loss = 0.702219545841217\n",
      "epoch 15: loss = 0.6823620200157166\n",
      "epoch 16: loss = 0.6647487878799438\n",
      "epoch 17: loss = 0.6491159796714783\n",
      "epoch 18: loss = 0.6350514888763428\n",
      "epoch 19: loss = 0.6223106384277344\n",
      "epoch 20: loss = 0.6106955409049988\n",
      "epoch 21: loss = 0.6000427603721619\n",
      "epoch 22: loss = 0.590219259262085\n",
      "epoch 23: loss = 0.5811310410499573\n",
      "epoch 24: loss = 0.5726924538612366\n",
      "epoch 25: loss = 0.5648188591003418\n",
      "epoch 26: loss = 0.5574703216552734\n",
      "epoch 27: loss = 0.5505785346031189\n",
      "epoch 28: loss = 0.5441033244132996\n",
      "epoch 29: loss = 0.5380085706710815\n",
      "epoch 30: loss = 0.5322510600090027\n",
      "epoch 31: loss = 0.5268118381500244\n",
      "epoch 32: loss = 0.5216545462608337\n",
      "epoch 33: loss = 0.5167583227157593\n",
      "epoch 34: loss = 0.512105405330658\n",
      "epoch 35: loss = 0.5076704621315002\n",
      "epoch 36: loss = 0.5034425258636475\n",
      "epoch 37: loss = 0.4994073212146759\n",
      "epoch 38: loss = 0.4955483376979828\n",
      "epoch 39: loss = 0.49184954166412354\n",
      "epoch 40: loss = 0.48830804228782654\n",
      "epoch 41: loss = 0.4849051535129547\n",
      "epoch 42: loss = 0.4816378057003021\n",
      "epoch 43: loss = 0.47849515080451965\n",
      "epoch 44: loss = 0.4754706025123596\n",
      "epoch 45: loss = 0.4725625813007355\n",
      "epoch 46: loss = 0.4697449505329132\n",
      "epoch 47: loss = 0.4670354723930359\n",
      "epoch 48: loss = 0.4644143283367157\n",
      "epoch 49: loss = 0.46188414096832275\n",
      "epoch 50: loss = 0.4594293534755707\n",
      "epoch 51: loss = 0.45705634355545044\n",
      "epoch 52: loss = 0.45476385951042175\n",
      "epoch 53: loss = 0.45253586769104004\n",
      "epoch 54: loss = 0.4503757655620575\n",
      "epoch 55: loss = 0.4482778310775757\n",
      "epoch 56: loss = 0.44624319672584534\n",
      "epoch 57: loss = 0.4442645013332367\n",
      "epoch 58: loss = 0.44234323501586914\n",
      "epoch 59: loss = 0.4404740333557129\n",
      "epoch 60: loss = 0.43865224719047546\n",
      "epoch 61: loss = 0.43687695264816284\n",
      "epoch 62: loss = 0.4351499378681183\n",
      "epoch 63: loss = 0.43346768617630005\n",
      "epoch 64: loss = 0.43182578682899475\n",
      "epoch 65: loss = 0.4302288591861725\n",
      "epoch 66: loss = 0.4286690652370453\n",
      "epoch 67: loss = 0.4271450340747833\n",
      "epoch 68: loss = 0.4256536066532135\n",
      "epoch 69: loss = 0.42420244216918945\n",
      "epoch 70: loss = 0.4227829575538635\n",
      "epoch 71: loss = 0.4213933050632477\n",
      "epoch 72: loss = 0.42003658413887024\n",
      "epoch 73: loss = 0.4187086820602417\n",
      "epoch 74: loss = 0.41740882396698\n",
      "epoch 75: loss = 0.4161331057548523\n",
      "epoch 76: loss = 0.41488805413246155\n",
      "epoch 77: loss = 0.4136698544025421\n",
      "epoch 78: loss = 0.41247451305389404\n",
      "epoch 79: loss = 0.41130584478378296\n",
      "epoch 80: loss = 0.41015732288360596\n",
      "epoch 81: loss = 0.4090317487716675\n",
      "epoch 82: loss = 0.40792524814605713\n",
      "epoch 83: loss = 0.40684714913368225\n",
      "epoch 84: loss = 0.405784547328949\n",
      "epoch 85: loss = 0.4047379791736603\n",
      "epoch 86: loss = 0.40371426939964294\n",
      "epoch 87: loss = 0.402704119682312\n",
      "epoch 88: loss = 0.401719868183136\n",
      "epoch 89: loss = 0.40075117349624634\n",
      "epoch 90: loss = 0.3997965455055237\n",
      "epoch 91: loss = 0.3988579511642456\n",
      "epoch 92: loss = 0.3979405462741852\n",
      "epoch 93: loss = 0.3970356583595276\n",
      "epoch 94: loss = 0.3961467146873474\n",
      "epoch 95: loss = 0.3952687680721283\n",
      "epoch 96: loss = 0.3944112956523895\n",
      "epoch 97: loss = 0.3935622274875641\n",
      "epoch 98: loss = 0.3927293121814728\n",
      "epoch 99: loss = 0.3919092118740082\n",
      "epoch 100: loss = 0.39109906554222107\n",
      "epoch 101: loss = 0.3903025984764099\n",
      "epoch 102: loss = 0.3895202577114105\n",
      "epoch 103: loss = 0.3887483775615692\n",
      "epoch 104: loss = 0.38798779249191284\n",
      "epoch 105: loss = 0.3872390389442444\n",
      "epoch 106: loss = 0.38650012016296387\n",
      "epoch 107: loss = 0.38577401638031006\n",
      "epoch 108: loss = 0.38505637645721436\n",
      "epoch 109: loss = 0.38435041904449463\n",
      "epoch 110: loss = 0.3836570084095001\n",
      "epoch 111: loss = 0.3829691410064697\n",
      "epoch 112: loss = 0.3822939693927765\n",
      "epoch 113: loss = 0.38162335753440857\n",
      "epoch 114: loss = 0.3809654712677002\n",
      "epoch 115: loss = 0.38031652569770813\n",
      "epoch 116: loss = 0.3796730637550354\n",
      "epoch 117: loss = 0.37904077768325806\n",
      "epoch 118: loss = 0.37841591238975525\n",
      "epoch 119: loss = 0.37779802083969116\n",
      "epoch 120: loss = 0.3771907389163971\n",
      "epoch 121: loss = 0.37658631801605225\n",
      "epoch 122: loss = 0.37599584460258484\n",
      "epoch 123: loss = 0.37541040778160095\n",
      "epoch 124: loss = 0.3748317360877991\n",
      "epoch 125: loss = 0.3742605149745941\n",
      "epoch 126: loss = 0.37369731068611145\n",
      "epoch 127: loss = 0.37313807010650635\n",
      "epoch 128: loss = 0.37258610129356384\n",
      "epoch 129: loss = 0.3720420002937317\n",
      "epoch 130: loss = 0.3715047538280487\n",
      "epoch 131: loss = 0.37097376585006714\n",
      "epoch 132: loss = 0.37044757604599\n",
      "epoch 133: loss = 0.36992645263671875\n",
      "epoch 134: loss = 0.3694150745868683\n",
      "epoch 135: loss = 0.36890947818756104\n",
      "epoch 136: loss = 0.3684060871601105\n",
      "epoch 137: loss = 0.3679078221321106\n",
      "epoch 138: loss = 0.36741721630096436\n",
      "epoch 139: loss = 0.366934597492218\n",
      "epoch 140: loss = 0.36645451188087463\n",
      "epoch 141: loss = 0.36597782373428345\n",
      "epoch 142: loss = 0.36550915241241455\n",
      "epoch 143: loss = 0.3650436997413635\n",
      "epoch 144: loss = 0.36458447575569153\n",
      "epoch 145: loss = 0.3641292154788971\n",
      "epoch 146: loss = 0.3636796176433563\n",
      "epoch 147: loss = 0.36323362588882446\n",
      "epoch 148: loss = 0.3627932071685791\n",
      "epoch 149: loss = 0.3623568117618561\n",
      "epoch 150: loss = 0.36192378401756287\n",
      "epoch 151: loss = 0.3614944517612457\n",
      "epoch 152: loss = 0.3610713481903076\n",
      "epoch 153: loss = 0.36065369844436646\n",
      "epoch 154: loss = 0.3602372407913208\n",
      "epoch 155: loss = 0.3598281145095825\n",
      "epoch 156: loss = 0.35941991209983826\n",
      "epoch 157: loss = 0.3590170443058014\n",
      "epoch 158: loss = 0.35861679911613464\n",
      "epoch 159: loss = 0.35822269320487976\n",
      "epoch 160: loss = 0.3578302264213562\n",
      "epoch 161: loss = 0.35744354128837585\n",
      "epoch 162: loss = 0.35705792903900146\n",
      "epoch 163: loss = 0.35667556524276733\n",
      "epoch 164: loss = 0.35629943013191223\n",
      "epoch 165: loss = 0.3559277057647705\n",
      "epoch 166: loss = 0.35555678606033325\n",
      "epoch 167: loss = 0.3551916480064392\n",
      "epoch 168: loss = 0.35482868552207947\n",
      "epoch 169: loss = 0.35446444153785706\n",
      "epoch 170: loss = 0.354109525680542\n",
      "epoch 171: loss = 0.3537544310092926\n",
      "epoch 172: loss = 0.3534044921398163\n",
      "epoch 173: loss = 0.35305726528167725\n",
      "epoch 174: loss = 0.3527126610279083\n",
      "epoch 175: loss = 0.35236960649490356\n",
      "epoch 176: loss = 0.35203033685684204\n",
      "epoch 177: loss = 0.3516957461833954\n",
      "epoch 178: loss = 0.35136234760284424\n",
      "epoch 179: loss = 0.3510320782661438\n",
      "epoch 180: loss = 0.3507023751735687\n",
      "epoch 181: loss = 0.3503802716732025\n",
      "epoch 182: loss = 0.35005664825439453\n",
      "epoch 183: loss = 0.3497387170791626\n",
      "epoch 184: loss = 0.3494206368923187\n",
      "epoch 185: loss = 0.3491046726703644\n",
      "epoch 186: loss = 0.3487931787967682\n",
      "epoch 187: loss = 0.3484867513179779\n",
      "epoch 188: loss = 0.34818053245544434\n",
      "epoch 189: loss = 0.3478749096393585\n",
      "epoch 190: loss = 0.3475710153579712\n",
      "epoch 191: loss = 0.3472737669944763\n",
      "epoch 192: loss = 0.34697556495666504\n",
      "epoch 193: loss = 0.3466809391975403\n",
      "epoch 194: loss = 0.34638965129852295\n",
      "epoch 195: loss = 0.3460994064807892\n",
      "epoch 196: loss = 0.34581175446510315\n",
      "epoch 197: loss = 0.34552454948425293\n",
      "epoch 198: loss = 0.3452404737472534\n",
      "epoch 199: loss = 0.34495994448661804\n",
      "epoch 200: loss = 0.34468013048171997\n"
     ]
    }
   ],
   "source": [
    "train(model, torch.from_numpy(X_train).float(),torch.from_numpy(C_train),step_num=200)"
   ]
  },
  {
   "cell_type": "markdown",
   "metadata": {},
   "source": [
    "正解率を調べる。"
   ]
  },
  {
   "cell_type": "code",
   "execution_count": 17,
   "metadata": {},
   "outputs": [
    {
     "data": {
      "text/plain": [
       "0.9044285714285715"
      ]
     },
     "execution_count": 17,
     "metadata": {},
     "output_type": "execute_result"
    }
   ],
   "source": [
    "Y_test = model(torch.from_numpy(X_test).float())\n",
    "result = np.array([np.argmax(y) for y in Y_test.detach().numpy()])\n",
    "answer = C_test\n",
    "np.sum(np.equal(result, answer)) / C_test.shape[0]"
   ]
  },
  {
   "cell_type": "markdown",
   "metadata": {},
   "source": [
    "精度はだいたい90%くらいになったことだろう。\n",
    "\n",
    "ネット上で同じデータ、同じロジスティック回帰を使ってテストした例では、92,3%くらいの精度になっているようだ。90%は少しだけ劣っているが、1つには学習方法もある。ここでは全データで一挙に重みを更新するバッチ学習というのを行っているが、これをいくつかのミニバッチに分割して勾配降下法を実行するSGD(確率的勾配降下法)がポピュラーな学習アルゴリズムで、局所最小値にはまる危険が少ない特長を持っている。"
   ]
  },
  {
   "cell_type": "markdown",
   "metadata": {},
   "source": [
    "## Feed-forwardネットワーク\n",
    "多クラスロジスティック回帰を少し拡張してみる。(記号を少し変えてある)\n",
    "\\begin{align*}\n",
    "\\boldsymbol{a_1}&={\\boldsymbol{W}^{(1)}}^\\top\\boldsymbol{x} \\\\\n",
    "\\boldsymbol{z_1}&=\\text{softmax}(\\boldsymbol{a_1}) \\\\\n",
    "\\boldsymbol{a_2}&={\\boldsymbol{W}^{(2)}}^\\top\\boldsymbol{z_1^+} \\\\\n",
    "\\boldsymbol{y}&=\\text{softmax}(\\boldsymbol{a_2})\n",
    "\\end{align*}\n",
    "$\\boldsymbol{x}$ → $\\boldsymbol{z_1}$ → $\\boldsymbol{y}$ の順でデータが変換されているのがわかるだろうか。\n",
    "\n",
    "$\\boldsymbol{W}^{(1)}$ は $(D+1)\\times H$行列、 $\\boldsymbol{W}^{(2)}$ は $(H+1)\\times M$行列である。(プラス1は切片のため)  $\\boldsymbol{z}^+$ は $\\boldsymbol{z}$ を1で拡張したベクトルを表す。$H$ は任意に決められるが、この数が重要であることが後でわかる。"
   ]
  },
  {
   "cell_type": "markdown",
   "metadata": {},
   "source": [
    "# 課題\n",
    "1. Feed-forwardネットワークにより手書き数字画像のモデル化を行い、多クラスロジスティック回帰との性能を比較せよ。"
   ]
  },
  {
   "cell_type": "code",
   "execution_count": null,
   "metadata": {},
   "outputs": [],
   "source": []
  }
 ],
 "metadata": {
  "kernelspec": {
   "display_name": "Python 3",
   "language": "python",
   "name": "python3"
  },
  "language_info": {
   "codemirror_mode": {
    "name": "ipython",
    "version": 3
   },
   "file_extension": ".py",
   "mimetype": "text/x-python",
   "name": "python",
   "nbconvert_exporter": "python",
   "pygments_lexer": "ipython3",
   "version": "3.7.0"
  }
 },
 "nbformat": 4,
 "nbformat_minor": 2
}
